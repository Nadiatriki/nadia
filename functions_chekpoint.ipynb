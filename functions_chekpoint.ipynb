{
  "nbformat": 4,
  "nbformat_minor": 0,
  "metadata": {
    "colab": {
      "provenance": [],
      "include_colab_link": true
    },
    "kernelspec": {
      "name": "python3",
      "display_name": "Python 3"
    },
    "language_info": {
      "name": "python"
    }
  },
  "cells": [
    {
      "cell_type": "markdown",
      "metadata": {
        "id": "view-in-github",
        "colab_type": "text"
      },
      "source": [
        "<a href=\"https://colab.research.google.com/github/Nadiatriki/nadia/blob/main/functions_chekpoint.ipynb\" target=\"_parent\"><img src=\"https://colab.research.google.com/assets/colab-badge.svg\" alt=\"Open In Colab\"/></a>"
      ]
    },
    {
      "cell_type": "code",
      "execution_count": null,
      "metadata": {
        "id": "P3YUfG-GhE_n",
        "colab": {
          "base_uri": "https://localhost:8080/"
        },
        "outputId": "63e027cb-4f21-4e45-bb05-20bd30483816"
      },
      "outputs": [
        {
          "output_type": "stream",
          "name": "stdout",
          "text": [
            "+\n",
            "-\n",
            "*\n",
            "/\n",
            "Enter a number: 5\n",
            "Choose an operation, please:\n",
            " +: to add\n",
            " -: to subtract\n",
            " *: to multiply\n",
            " /: to divide\n",
            " q: to quit\n",
            "/\n",
            "Enter the second number: 5\n",
            "The result of division of 5.0 and 5.0 is 1.0\n",
            "Would you like to continue using the result as the first number for further calculations? (Y or N): y\n",
            "Choose an operation, please:\n",
            " +: to add\n",
            " -: to subtract\n",
            " *: to multiply\n",
            " /: to divide\n",
            " q: to quit\n"
          ]
        }
      ],
      "source": [
        "# Addition\n",
        "def add(num1, num2):\n",
        "    return num1 + num2\n",
        "\n",
        "# Subtraction\n",
        "def subtract(num1, num2):\n",
        "    return num1 - num2\n",
        "\n",
        "# Multiplication\n",
        "def multiply(num1, num2):\n",
        "    return num1 * num2\n",
        "\n",
        "# Division\n",
        "def divide(num1, num2):\n",
        "    if num2 == 0:\n",
        "        print(\"division by zero is impossible\")\n",
        "        return None\n",
        "    return num1 / num2\n",
        "\n",
        "operations = {\"add\": \"+\", \"subtract\": \"-\", \"multiply\": \"*\", \"divide\": \"/\"}\n",
        "for value in operations.values():\n",
        "  print (value)\n",
        "\n",
        "def calculator():\n",
        "    return float(input(\"Enter a number: \"))\n",
        "\n",
        "answer = None\n",
        "while True:\n",
        "    if answer is not None:\n",
        "        num1 = answer\n",
        "    else:\n",
        "        num1 = calculator()\n",
        "\n",
        "    print(\"Choose an operation, please:\\n +: to add\\n -: to subtract\\n *: to multiply\\n /: to divide\\n q: to quit\")\n",
        "    calculation_function = input(\"\")\n",
        "\n",
        "    if calculation_function == \"q\":\n",
        "        break\n",
        "\n",
        "    if calculation_function not in operations.values():\n",
        "        print(\"invalid operation, please try again\")\n",
        "        continue\n",
        "\n",
        "    num2 = float(input(\"Enter the second number: \"))\n",
        "\n",
        "    if calculation_function == \"+\":\n",
        "        answer = add(num1, num2)\n",
        "        print(f'The result of addition of {num1} and {num2} is {answer}')\n",
        "    elif calculation_function == \"-\":\n",
        "        answer = subtract(num1, num2)\n",
        "        print(f'The result of subtraction of {num1} and {num2} is {answer}')\n",
        "    elif calculation_function == \"*\":\n",
        "        answer = multiply(num1, num2)\n",
        "        print(f'The result of multiplication of {num1} and {num2} is {answer}')\n",
        "    elif calculation_function == \"/\":\n",
        "        answer = divide(num1, num2)\n",
        "        print(f'The result of division of {num1} and {num2} is {answer}')\n",
        "        if answer is None:\n",
        "            continue\n",
        "\n",
        "    should_continue = input(\"Would you like to continue using the result as the first number for further calculations? (Y or N): \").lower()\n",
        "    if should_continue != \"y\":\n",
        "        answer = None\n"
      ]
    },
    {
      "cell_type": "code",
      "source": [
        "\n"
      ],
      "metadata": {
        "id": "Cw610y8GGu7W"
      },
      "execution_count": null,
      "outputs": []
    }
  ]
}